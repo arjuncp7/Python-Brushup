{
 "cells": [
  {
   "cell_type": "code",
   "execution_count": 3,
   "id": "30456399",
   "metadata": {},
   "outputs": [
    {
     "name": "stdout",
     "output_type": "stream",
     "text": [
      "Enter the radius in cm : \n",
      "2\n"
     ]
    }
   ],
   "source": [
    "print ( \"Enter the radius in cm : \")\n",
    "r = float (input ())\n"
   ]
  },
  {
   "cell_type": "code",
   "execution_count": 5,
   "id": "fb94b587",
   "metadata": {},
   "outputs": [
    {
     "name": "stdout",
     "output_type": "stream",
     "text": [
      "Area of circle is : 12.56\n"
     ]
    }
   ],
   "source": [
    "area = 3.14* r*r\n",
    "print (\"Area of circle is :\" , area)"
   ]
  },
  {
   "cell_type": "code",
   "execution_count": 6,
   "id": "da54e6df",
   "metadata": {},
   "outputs": [],
   "source": [
    "# using Pi "
   ]
  },
  {
   "cell_type": "code",
   "execution_count": 7,
   "id": "133f9921",
   "metadata": {},
   "outputs": [],
   "source": [
    "from math import pi"
   ]
  },
  {
   "cell_type": "code",
   "execution_count": 8,
   "id": "e2f2b3f5",
   "metadata": {},
   "outputs": [
    {
     "name": "stdout",
     "output_type": "stream",
     "text": [
      "Enter the radius in cm :5\n"
     ]
    }
   ],
   "source": [
    "r = float(input(\"Enter the radius in cm :\"))"
   ]
  },
  {
   "cell_type": "code",
   "execution_count": 9,
   "id": "f22f722b",
   "metadata": {},
   "outputs": [
    {
     "name": "stdout",
     "output_type": "stream",
     "text": [
      "Area of circle with radius 5.0 is 78.53981633974483\n"
     ]
    }
   ],
   "source": [
    "print( \"Area of circle with radius \"+ str(r) + \" is \" +str(pi*r**2) )"
   ]
  },
  {
   "cell_type": "code",
   "execution_count": null,
   "id": "03dbf427",
   "metadata": {},
   "outputs": [],
   "source": []
  }
 ],
 "metadata": {
  "kernelspec": {
   "display_name": "Python 3 (ipykernel)",
   "language": "python",
   "name": "python3"
  },
  "language_info": {
   "codemirror_mode": {
    "name": "ipython",
    "version": 3
   },
   "file_extension": ".py",
   "mimetype": "text/x-python",
   "name": "python",
   "nbconvert_exporter": "python",
   "pygments_lexer": "ipython3",
   "version": "3.9.12"
  }
 },
 "nbformat": 4,
 "nbformat_minor": 5
}
